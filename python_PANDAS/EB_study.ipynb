{
 "cells": [
  {
   "cell_type": "code",
   "execution_count": 1,
   "id": "f2b8e575",
   "metadata": {},
   "outputs": [],
   "source": [
    "import pandas as pd"
   ]
  },
  {
   "cell_type": "raw",
   "id": "8cd868a5",
   "metadata": {},
   "source": [
    "Criar o DataFrame puxando a planilha Excel"
   ]
  },
  {
   "cell_type": "code",
   "execution_count": 9,
   "id": "88c260ea",
   "metadata": {},
   "outputs": [],
   "source": [
    "df = pd.read_excel('EB_Vendas.xlsx')"
   ]
  },
  {
   "cell_type": "code",
   "execution_count": 21,
   "id": "25b86099",
   "metadata": {},
   "outputs": [
    {
     "data": {
      "text/plain": [
       "Cidade             object\n",
       "Data       datetime64[ns]\n",
       "Vendas            float64\n",
       "Loja                int64\n",
       "Qtde                int64\n",
       "Receita           float64\n",
       "dtype: object"
      ]
     },
     "execution_count": 21,
     "metadata": {},
     "output_type": "execute_result"
    }
   ],
   "source": [
    "df.dtypes"
   ]
  },
  {
   "cell_type": "code",
   "execution_count": 11,
   "id": "a7015f06",
   "metadata": {},
   "outputs": [
    {
     "data": {
      "text/plain": [
       "Cidade     50\n",
       "Data       50\n",
       "Vendas     50\n",
       "Loja       50\n",
       "Qtde       50\n",
       "Receita    50\n",
       "dtype: int64"
      ]
     },
     "execution_count": 11,
     "metadata": {},
     "output_type": "execute_result"
    }
   ],
   "source": [
    "df.count()"
   ]
  },
  {
   "cell_type": "code",
   "execution_count": 4,
   "id": "b8ab47fa",
   "metadata": {},
   "outputs": [
    {
     "data": {
      "text/plain": [
       "Cidade\n",
       "Aracaju       243.76\n",
       "Fortaleza     430.07\n",
       "Natal        2570.21\n",
       "Recife        674.64\n",
       "Salvador     1594.87\n",
       "Name: Vendas, dtype: float64"
      ]
     },
     "execution_count": 4,
     "metadata": {},
     "output_type": "execute_result"
    }
   ],
   "source": [
    "df.groupby('Cidade')['Vendas'].sum()  # soma os valores da coluna \"Vendas\" de cada cidade"
   ]
  },
  {
   "cell_type": "code",
   "execution_count": 14,
   "id": "d1b919a0",
   "metadata": {},
   "outputs": [
    {
     "data": {
      "text/plain": [
       "Cidade\n",
       "Aracaju       5\n",
       "Fortaleza     7\n",
       "Natal        15\n",
       "Recife        7\n",
       "Salvador     16\n",
       "Name: Loja, dtype: int64"
      ]
     },
     "execution_count": 14,
     "metadata": {},
     "output_type": "execute_result"
    }
   ],
   "source": [
    "df.groupby('Cidade')['Loja'].size()   # soma a quantidade de itens da coluna \"loja\" (pode ser qualquer coluna)"
   ]
  },
  {
   "cell_type": "code",
   "execution_count": 56,
   "id": "c557e32d",
   "metadata": {},
   "outputs": [
    {
     "data": {
      "text/plain": [
       "Data  Cidade   \n",
       "2018  Aracaju       243.76\n",
       "      Natal         995.00\n",
       "2019  Fortaleza     430.07\n",
       "      Natal        1575.21\n",
       "      Recife        674.64\n",
       "      Salvador     1594.87\n",
       "Name: Vendas, dtype: float64"
      ]
     },
     "execution_count": 56,
     "metadata": {},
     "output_type": "execute_result"
    }
   ],
   "source": [
    "df.groupby([df['Data'].dt.year, df['Cidade']])['Vendas'].sum()"
   ]
  },
  {
   "cell_type": "code",
   "execution_count": 47,
   "id": "ba9dc331",
   "metadata": {},
   "outputs": [
    {
     "data": {
      "text/html": [
       "<div>\n",
       "<style scoped>\n",
       "    .dataframe tbody tr th:only-of-type {\n",
       "        vertical-align: middle;\n",
       "    }\n",
       "\n",
       "    .dataframe tbody tr th {\n",
       "        vertical-align: top;\n",
       "    }\n",
       "\n",
       "    .dataframe thead th {\n",
       "        text-align: right;\n",
       "    }\n",
       "</style>\n",
       "<table border=\"1\" class=\"dataframe\">\n",
       "  <thead>\n",
       "    <tr style=\"text-align: right;\">\n",
       "      <th></th>\n",
       "      <th>Cidade</th>\n",
       "      <th>Data</th>\n",
       "      <th>Vendas</th>\n",
       "      <th>Loja</th>\n",
       "      <th>Qtde</th>\n",
       "      <th>Receita</th>\n",
       "    </tr>\n",
       "  </thead>\n",
       "  <tbody>\n",
       "    <tr>\n",
       "      <th>35</th>\n",
       "      <td>Natal</td>\n",
       "      <td>2018-02-01</td>\n",
       "      <td>432.0</td>\n",
       "      <td>854</td>\n",
       "      <td>3</td>\n",
       "      <td>1296.0</td>\n",
       "    </tr>\n",
       "  </tbody>\n",
       "</table>\n",
       "</div>"
      ],
      "text/plain": [
       "   Cidade       Data  Vendas  Loja  Qtde  Receita\n",
       "35  Natal 2018-02-01   432.0   854     3   1296.0"
      ]
     },
     "execution_count": 47,
     "metadata": {},
     "output_type": "execute_result"
    }
   ],
   "source": [
    "df.loc[df.Loja == 854]"
   ]
  },
  {
   "cell_type": "code",
   "execution_count": 60,
   "id": "20854d77",
   "metadata": {},
   "outputs": [
    {
     "data": {
      "text/html": [
       "<div>\n",
       "<style scoped>\n",
       "    .dataframe tbody tr th:only-of-type {\n",
       "        vertical-align: middle;\n",
       "    }\n",
       "\n",
       "    .dataframe tbody tr th {\n",
       "        vertical-align: top;\n",
       "    }\n",
       "\n",
       "    .dataframe thead th {\n",
       "        text-align: right;\n",
       "    }\n",
       "</style>\n",
       "<table border=\"1\" class=\"dataframe\">\n",
       "  <thead>\n",
       "    <tr style=\"text-align: right;\">\n",
       "      <th></th>\n",
       "      <th>Cidade</th>\n",
       "      <th>Data</th>\n",
       "      <th>Vendas</th>\n",
       "      <th>Loja</th>\n",
       "      <th>Qtde</th>\n",
       "      <th>Receita</th>\n",
       "    </tr>\n",
       "  </thead>\n",
       "  <tbody>\n",
       "    <tr>\n",
       "      <th>20</th>\n",
       "      <td>Natal</td>\n",
       "      <td>2019-01-02</td>\n",
       "      <td>151.45</td>\n",
       "      <td>1036</td>\n",
       "      <td>2</td>\n",
       "      <td>302.90</td>\n",
       "    </tr>\n",
       "    <tr>\n",
       "      <th>22</th>\n",
       "      <td>Natal</td>\n",
       "      <td>2019-01-02</td>\n",
       "      <td>188.79</td>\n",
       "      <td>1036</td>\n",
       "      <td>3</td>\n",
       "      <td>566.37</td>\n",
       "    </tr>\n",
       "  </tbody>\n",
       "</table>\n",
       "</div>"
      ],
      "text/plain": [
       "   Cidade       Data  Vendas  Loja  Qtde  Receita\n",
       "20  Natal 2019-01-02  151.45  1036     2   302.90\n",
       "22  Natal 2019-01-02  188.79  1036     3   566.37"
      ]
     },
     "execution_count": 60,
     "metadata": {},
     "output_type": "execute_result"
    }
   ],
   "source": [
    "f1 = df.Data.dt.year == 2019\n",
    "f2 = df.Cidade == 'Natal'\n",
    "f3 = df.Loja == 1036\n",
    "f4 = df.Receita > 100.00\n",
    "df.loc[f1 & f2 & f3 & f4]"
   ]
  },
  {
   "cell_type": "code",
   "execution_count": null,
   "id": "99aa765a",
   "metadata": {},
   "outputs": [],
   "source": []
  }
 ],
 "metadata": {
  "kernelspec": {
   "display_name": "Python 3",
   "language": "python",
   "name": "python3"
  },
  "language_info": {
   "codemirror_mode": {
    "name": "ipython",
    "version": 3
   },
   "file_extension": ".py",
   "mimetype": "text/x-python",
   "name": "python",
   "nbconvert_exporter": "python",
   "pygments_lexer": "ipython3",
   "version": "3.8.8"
  }
 },
 "nbformat": 4,
 "nbformat_minor": 5
}
