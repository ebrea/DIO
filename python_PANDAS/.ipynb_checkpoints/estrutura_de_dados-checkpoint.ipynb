{
 "cells": [
  {
   "cell_type": "code",
   "execution_count": 3,
   "id": "ebd69c68",
   "metadata": {},
   "outputs": [],
   "source": [
    "lista = ['joão', 34, 'banana', 'Pedro', 'uva', 'tijela']"
   ]
  },
  {
   "cell_type": "code",
   "execution_count": 4,
   "id": "3ffa03b7",
   "metadata": {},
   "outputs": [],
   "source": [
    "lista.extend(['Marta', 'Bolo',1978])"
   ]
  },
  {
   "cell_type": "code",
   "execution_count": 5,
   "id": "f89ef9db",
   "metadata": {},
   "outputs": [
    {
     "data": {
      "text/plain": [
       "['joão', 34, 'banana', 'Pedro', 'uva', 'tijela', 'Marta', 'Bolo', 1978]"
      ]
     },
     "execution_count": 5,
     "metadata": {},
     "output_type": "execute_result"
    }
   ],
   "source": [
    "lista"
   ]
  },
  {
   "cell_type": "code",
   "execution_count": 6,
   "id": "e6586c05",
   "metadata": {},
   "outputs": [],
   "source": [
    "dic = {'país': 'Brasil', 'DDD': 11, 'cidade': 'Atibaia'}"
   ]
  },
  {
   "cell_type": "code",
   "execution_count": 7,
   "id": "2cd0c258",
   "metadata": {},
   "outputs": [
    {
     "data": {
      "text/plain": [
       "{'país': 'Brasil', 'DDD': 11, 'cidade': 'Atibaia'}"
      ]
     },
     "execution_count": 7,
     "metadata": {},
     "output_type": "execute_result"
    }
   ],
   "source": [
    "dic"
   ]
  },
  {
   "cell_type": "code",
   "execution_count": 12,
   "id": "2f84f5c7",
   "metadata": {},
   "outputs": [
    {
     "name": "stdout",
     "output_type": "stream",
     "text": [
      "país\n",
      "DDD\n",
      "cidade\n"
     ]
    }
   ],
   "source": [
    "for c in dic: \n",
    "        print(c)"
   ]
  },
  {
   "cell_type": "code",
   "execution_count": 16,
   "id": "3fc5520d",
   "metadata": {},
   "outputs": [
    {
     "name": "stdout",
     "output_type": "stream",
     "text": [
      "país\n",
      "DDD\n",
      "cidade\n"
     ]
    }
   ],
   "source": [
    "for k in dic.keys(): \n",
    "        print(k)"
   ]
  },
  {
   "cell_type": "code",
   "execution_count": 15,
   "id": "dd807e8c",
   "metadata": {},
   "outputs": [
    {
     "name": "stdout",
     "output_type": "stream",
     "text": [
      "Brasil\n",
      "11\n",
      "Atibaia\n"
     ]
    }
   ],
   "source": [
    "for v in dic.values(): \n",
    "        print(v)"
   ]
  },
  {
   "cell_type": "markdown",
   "id": "64cc5555",
   "metadata": {},
   "source": [
    "for k, v in dic: \n",
    "        print(k,''' ', v)"
   ]
  },
  {
   "cell_type": "code",
   "execution_count": null,
   "id": "aa72f611",
   "metadata": {},
   "outputs": [],
   "source": []
  }
 ],
 "metadata": {
  "kernelspec": {
   "display_name": "Python 3",
   "language": "python",
   "name": "python3"
  },
  "language_info": {
   "codemirror_mode": {
    "name": "ipython",
    "version": 3
   },
   "file_extension": ".py",
   "mimetype": "text/x-python",
   "name": "python",
   "nbconvert_exporter": "python",
   "pygments_lexer": "ipython3",
   "version": "3.8.8"
  }
 },
 "nbformat": 4,
 "nbformat_minor": 5
}
